{
  "nbformat": 4,
  "nbformat_minor": 0,
  "metadata": {
    "colab": {
      "name": "My First Notebook ",
      "provenance": [],
      "toc_visible": true,
      "authorship_tag": "ABX9TyP9jjPi6RLpTSpzd5pqAvWg",
      "include_colab_link": true
    },
    "kernelspec": {
      "name": "python3",
      "display_name": "Python 3"
    },
    "language_info": {
      "name": "python"
    }
  },
  "cells": [
    {
      "cell_type": "markdown",
      "metadata": {
        "id": "view-in-github",
        "colab_type": "text"
      },
      "source": [
        "<a href=\"https://colab.research.google.com/github/Matias-al/my-notebooks-2022/blob/main/My_First_Notebook.ipynb\" target=\"_parent\"><img src=\"https://colab.research.google.com/assets/colab-badge.svg\" alt=\"Open In Colab\"/></a>"
      ]
    },
    {
      "cell_type": "code",
      "execution_count": 11,
      "metadata": {
        "colab": {
          "base_uri": "https://localhost:8080/"
        },
        "id": "ElaDL0DmGiF4",
        "outputId": "67388286-cdba-4d48-86c2-416588899388"
      },
      "outputs": [
        {
          "output_type": "stream",
          "name": "stdout",
          "text": [
            "hello world!\n",
            "4\n",
            "5\n"
          ]
        }
      ],
      "source": [
        "print (\"hello world!\")\n",
        "x = 2+2\n",
        "print (x)"
      ]
    },
    {
      "cell_type": "markdown",
      "source": [
        "# markdown\n",
        "\n",
        "you can make links like [this](youtube.com)"
      ],
      "metadata": {
        "id": "Ec3HzKdIHGhE"
      }
    }
  ]
}